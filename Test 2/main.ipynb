{
 "cells": [
  {
   "cell_type": "code",
   "execution_count": null,
   "metadata": {
    "vscode": {
     "languageId": "plaintext"
    }
   },
   "outputs": [],
   "source": [
    "import numpy as np\n",
    "import tensorflow as tf\n",
    "from tensorflow.keras.applications import VGG16\n",
    "from tensorflow.keras.applications.vgg16 import preprocess_input, decode_predictions\n",
    "from tensorflow.keras.datasets import cifar10\n",
    "from art.attacks.evasion import FastGradientMethod\n",
    "from art.estimators.classification import TensorFlowV2Classifier\n",
    "from sklearn.metrics import accuracy_score"
   ]
  },
  {
   "cell_type": "code",
   "execution_count": null,
   "metadata": {
    "vscode": {
     "languageId": "plaintext"
    }
   },
   "outputs": [],
   "source": [
    "# Step 1: Load the dataset (CIFAR-10)\n",
    "def load_cifar10():\n",
    "    (x_train, y_train), (x_test, y_test) = cifar10.load_data()\n",
    "\n",
    "    # Normalize and preprocess the data for VGG16\n",
    "    x_test = preprocess_input(x_test.astype(np.float32))\n",
    "    y_test = tf.keras.utils.to_categorical(y_test, 10)  # One-hot encoding\n",
    "    return x_test, y_test"
   ]
  },
  {
   "cell_type": "code",
   "execution_count": null,
   "metadata": {
    "vscode": {
     "languageId": "plaintext"
    }
   },
   "outputs": [],
   "source": [
    "# Step 2: Load the pre-trained VGG16 model\n",
    "def load_vgg16_model():\n",
    "    model = VGG16(weights=\"imagenet\", include_top=True, input_shape=(224, 224, 3))\n",
    "    return model"
   ]
  },
  {
   "cell_type": "code",
   "execution_count": null,
   "metadata": {
    "vscode": {
     "languageId": "plaintext"
    }
   },
   "outputs": [],
   "source": [
    "# Step 3: Resize CIFAR-10 images for VGG16\n",
    "def resize_images(images, target_size=(224, 224)):\n",
    "    resized_images = tf.image.resize(images, target_size).numpy()\n",
    "    return resized_images"
   ]
  },
  {
   "cell_type": "code",
   "execution_count": null,
   "metadata": {
    "vscode": {
     "languageId": "plaintext"
    }
   },
   "outputs": [],
   "source": [
    "# Step 4: Evaluate the model on clean data\n",
    "def evaluate_model(classifier, x_test, y_test):\n",
    "    predictions = np.argmax(classifier.predict(x_test), axis=1)\n",
    "    true_labels = np.argmax(y_test, axis=1)\n",
    "    accuracy = accuracy_score(true_labels, predictions)\n",
    "    print(f\"Model accuracy on clean data: {accuracy * 100:.2f}%\")\n",
    "    return accuracy"
   ]
  },
  {
   "cell_type": "code",
   "execution_count": null,
   "metadata": {
    "vscode": {
     "languageId": "plaintext"
    }
   },
   "outputs": [],
   "source": [
    "# Step 5: Perform an FGSM attack\n",
    "def perform_fgsm_attack(classifier, x_test, y_test, epsilon=0.01):\n",
    "    fgsm = FastGradientMethod(estimator=classifier, eps=epsilon)\n",
    "    x_adv = fgsm.generate(x=x_test)\n",
    "    predictions_adv = np.argmax(classifier.predict(x_adv), axis=1)\n",
    "    true_labels = np.argmax(y_test, axis=1)\n",
    "    accuracy = accuracy_score(true_labels, predictions_adv)\n",
    "    print(f\"Model accuracy on adversarial data (FGSM, eps={epsilon}): {accuracy * 100:.2f}%\")\n",
    "    return x_adv, accuracy"
   ]
  },
  {
   "cell_type": "code",
   "execution_count": null,
   "metadata": {
    "vscode": {
     "languageId": "plaintext"
    }
   },
   "outputs": [],
   "source": [
    "# Main workflow\n",
    "def main():\n",
    "    # Load data\n",
    "    x_test, y_test = load_cifar10()\n",
    "\n",
    "    # Resize images for VGG16\n",
    "    x_test_resized = resize_images(x_test)\n",
    "\n",
    "    # Load VGG16 model\n",
    "    model = load_vgg16_model()\n",
    "\n",
    "    # Wrap the model with ART's TensorFlowV2Classifier\n",
    "    classifier = TensorFlowV2Classifier(\n",
    "        model=model,\n",
    "        nb_classes=1000,\n",
    "        input_shape=(224, 224, 3),\n",
    "        clip_values=(0, 255)\n",
    "    )\n",
    "\n",
    "    # Evaluate model on clean data\n",
    "    evaluate_model(classifier, x_test_resized, y_test)\n",
    "\n",
    "    # Perform FGSM attack\n",
    "    perform_fgsm_attack(classifier, x_test_resized, y_test, epsilon=0.01)\n"
   ]
  },
  {
   "cell_type": "code",
   "execution_count": null,
   "metadata": {
    "vscode": {
     "languageId": "plaintext"
    }
   },
   "outputs": [],
   "source": [
    "if __name__ == \"__main__\":\n",
    "    main()"
   ]
  },
  {
   "cell_type": "code",
   "execution_count": null,
   "metadata": {
    "vscode": {
     "languageId": "plaintext"
    }
   },
   "outputs": [],
   "source": []
  }
 ],
 "metadata": {
  "language_info": {
   "name": "python"
  }
 },
 "nbformat": 4,
 "nbformat_minor": 2
}
