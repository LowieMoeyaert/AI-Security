{
 "cells": [
  {
   "cell_type": "code",
   "execution_count": 1,
   "metadata": {},
   "outputs": [
    {
     "name": "stdout",
     "output_type": "stream",
     "text": [
      "WARNING:tensorflow:From C:\\Users\\Wardg\\AppData\\Local\\Temp\\ipykernel_16564\\1507028325.py:4: The name tf.disable_v2_behavior is deprecated. Please use tf.compat.v1.disable_v2_behavior instead.\n",
      "\n",
      "WARNING:tensorflow:From c:\\Users\\Wardg\\.virtualenvs\\AI-Security-symJyybd\\Lib\\site-packages\\tensorflow\\python\\compat\\v2_compat.py:98: disable_resource_variables (from tensorflow.python.ops.resource_variables_toggle) is deprecated and will be removed in a future version.\n",
      "Instructions for updating:\n",
      "non-resource variables are not supported in the long term\n"
     ]
    },
    {
     "name": "stderr",
     "output_type": "stream",
     "text": [
      "c:\\Users\\Wardg\\.virtualenvs\\AI-Security-symJyybd\\Lib\\site-packages\\tqdm\\auto.py:21: TqdmWarning: IProgress not found. Please update jupyter and ipywidgets. See https://ipywidgets.readthedocs.io/en/stable/user_install.html\n",
      "  from .autonotebook import tqdm as notebook_tqdm\n",
      "c:\\Users\\Wardg\\.virtualenvs\\AI-Security-symJyybd\\Lib\\site-packages\\art\\estimators\\certification\\__init__.py:30: UserWarning: PyTorch not found. Not importing DeepZ or Interval Bound Propagation functionality\n",
      "  warnings.warn(\"PyTorch not found. Not importing DeepZ or Interval Bound Propagation functionality\")\n"
     ]
    }
   ],
   "source": [
    "import numpy as np\n",
    "import matplotlib.pyplot as plt\n",
    "import tensorflow.compat.v1 as tf\n",
    "tf.disable_v2_behavior()\n",
    "from tensorflow.keras.models import Sequential\n",
    "from tensorflow.keras.layers import Dense\n",
    "from tensorflow.keras.applications import ResNet50, VGG16\n",
    "from tensorflow.keras.applications.resnet50 import preprocess_input as preprocess_resnet\n",
    "from tensorflow.keras.applications.vgg16 import preprocess_input as preprocess_vgg\n",
    "from tensorflow.keras.utils import to_categorical\n",
    "from art.estimators.classification import KerasClassifier\n",
    "from art.attacks.evasion import FastGradientMethod, CarliniL2Method, ProjectedGradientDescent\n",
    "from tensorflow.keras.datasets import cifar10"
   ]
  },
  {
   "cell_type": "code",
   "execution_count": 2,
   "metadata": {},
   "outputs": [
    {
     "name": "stdout",
     "output_type": "stream",
     "text": [
      "2.18.0\n"
     ]
    }
   ],
   "source": [
    "print(tf.__version__)"
   ]
  },
  {
   "cell_type": "code",
   "execution_count": 3,
   "metadata": {},
   "outputs": [
    {
     "name": "stdout",
     "output_type": "stream",
     "text": [
      "WARNING:tensorflow:From C:\\Users\\Wardg\\AppData\\Local\\Temp\\ipykernel_16564\\3765101501.py:2: The name tf.disable_eager_execution is deprecated. Please use tf.compat.v1.disable_eager_execution instead.\n",
      "\n"
     ]
    }
   ],
   "source": [
    "# Disable TensorFlow eager execution (necessary for ART with TensorFlow 2.x)\n",
    "tf.compat.v1.disable_eager_execution()"
   ]
  },
  {
   "cell_type": "code",
   "execution_count": 4,
   "metadata": {},
   "outputs": [],
   "source": [
    "# Load CIFAR-10 dataset\n",
    "(x_train, y_train), (x_test, y_test) = cifar10.load_data()\n",
    "x_train, x_test = x_train / 255.0, x_test / 255.0  # Normalize images to [0,1]\n",
    "y_train, y_test = to_categorical(y_train, 10), to_categorical(y_test, 10)"
   ]
  },
  {
   "cell_type": "code",
   "execution_count": 5,
   "metadata": {},
   "outputs": [],
   "source": [
    "# Select a pre-trained model (ResNet50 or VGG16)\n",
    "def get_model(model_name=\"ResNet50\"):\n",
    "    if model_name == \"ResNet50\":\n",
    "        model = ResNet50(weights=\"imagenet\", include_top=True)  # include_top=True for full model\n",
    "        preprocess_input = preprocess_resnet\n",
    "    elif model_name == \"VGG16\":\n",
    "        model = VGG16(weights=\"imagenet\", include_top=True)\n",
    "        preprocess_input = preprocess_vgg\n",
    "    else:\n",
    "        raise ValueError(\"Unsupported model. Choose 'ResNet50' or 'VGG16'.\")\n",
    "    \n",
    "    # Ensure the model has a valid loss function\n",
    "    model.compile(optimizer='adam', loss='categorical_crossentropy', metrics=['accuracy'])\n",
    "    \n",
    "    return model, preprocess_input"
   ]
  },
  {
   "cell_type": "code",
   "execution_count": 6,
   "metadata": {},
   "outputs": [],
   "source": [
    "# Load model and prepare ART classifier\n",
    "model_name = \"ResNet50\"  # Change to \"VGG16\" if desired\n",
    "model, preprocess_input = get_model(model_name)\n",
    "\n"
   ]
  },
  {
   "cell_type": "code",
   "execution_count": 7,
   "metadata": {},
   "outputs": [],
   "source": [
    "# Wrap the model with ART's KerasClassifier (no 'nb_classes' argument needed)\n",
    "#art_classifier = KerasClassifier(model=model, clip_values=(0,1))\n"
   ]
  },
  {
   "cell_type": "code",
   "execution_count": 8,
   "metadata": {},
   "outputs": [],
   "source": [
    "# Adversarial attack examples\n",
    "def generate_adversarial_examples(attack_method, x, y):\n",
    "    attack = attack_method(classifier=art_classifier)\n",
    "    x_adv = attack.generate(x=x)\n",
    "    return x_adv"
   ]
  },
  {
   "cell_type": "code",
   "execution_count": 9,
   "metadata": {},
   "outputs": [],
   "source": [
    "# Evaluate the impact of adversarial attacks\n",
    "def evaluate_attack(attack_name, attack_method, x_sample, y_sample):\n",
    "    print(f\"\\nEvaluating {attack_name} attack...\")\n",
    "    x_adv = generate_adversarial_examples(attack_method, x_sample, y_sample)\n",
    "    predictions = np.argmax(art_classifier.predict(x_adv), axis=1)\n",
    "    true_labels = np.argmax(y_sample, axis=1)\n",
    "    accuracy = np.mean(predictions == true_labels)\n",
    "    print(f\"Accuracy after {attack_name} attack: {accuracy:.2%}\")\n",
    "    return x_adv"
   ]
  },
  {
   "cell_type": "code",
   "execution_count": 10,
   "metadata": {},
   "outputs": [],
   "source": [
    "# Subset of test samples\n",
    "x_sample, y_sample = x_test[:100], y_test[:100]\n",
    "x_sample_preprocessed = preprocess_input(x_sample)"
   ]
  },
  {
   "cell_type": "code",
   "execution_count": 11,
   "metadata": {},
   "outputs": [
    {
     "name": "stdout",
     "output_type": "stream",
     "text": [
      "\n",
      "Evaluating FGSM attack...\n"
     ]
    },
    {
     "ename": "NameError",
     "evalue": "name 'art_classifier' is not defined",
     "output_type": "error",
     "traceback": [
      "\u001b[1;31m---------------------------------------------------------------------------\u001b[0m",
      "\u001b[1;31mNameError\u001b[0m                                 Traceback (most recent call last)",
      "Cell \u001b[1;32mIn[11], line 3\u001b[0m\n\u001b[0;32m      1\u001b[0m \u001b[38;5;66;03m# FGSM Attack\u001b[39;00m\n\u001b[0;32m      2\u001b[0m fgsm_attack \u001b[38;5;241m=\u001b[39m \u001b[38;5;28;01mlambda\u001b[39;00m classifier: FastGradientMethod(classifier, eps\u001b[38;5;241m=\u001b[39m\u001b[38;5;241m0.1\u001b[39m)\n\u001b[1;32m----> 3\u001b[0m x_adv_fgsm \u001b[38;5;241m=\u001b[39m \u001b[43mevaluate_attack\u001b[49m\u001b[43m(\u001b[49m\u001b[38;5;124;43m\"\u001b[39;49m\u001b[38;5;124;43mFGSM\u001b[39;49m\u001b[38;5;124;43m\"\u001b[39;49m\u001b[43m,\u001b[49m\u001b[43m \u001b[49m\u001b[43mfgsm_attack\u001b[49m\u001b[43m,\u001b[49m\u001b[43m \u001b[49m\u001b[43mx_sample_preprocessed\u001b[49m\u001b[43m,\u001b[49m\u001b[43m \u001b[49m\u001b[43my_sample\u001b[49m\u001b[43m)\u001b[49m\n",
      "Cell \u001b[1;32mIn[9], line 4\u001b[0m, in \u001b[0;36mevaluate_attack\u001b[1;34m(attack_name, attack_method, x_sample, y_sample)\u001b[0m\n\u001b[0;32m      2\u001b[0m \u001b[38;5;28;01mdef\u001b[39;00m \u001b[38;5;21mevaluate_attack\u001b[39m(attack_name, attack_method, x_sample, y_sample):\n\u001b[0;32m      3\u001b[0m     \u001b[38;5;28mprint\u001b[39m(\u001b[38;5;124mf\u001b[39m\u001b[38;5;124m\"\u001b[39m\u001b[38;5;130;01m\\n\u001b[39;00m\u001b[38;5;124mEvaluating \u001b[39m\u001b[38;5;132;01m{\u001b[39;00mattack_name\u001b[38;5;132;01m}\u001b[39;00m\u001b[38;5;124m attack...\u001b[39m\u001b[38;5;124m\"\u001b[39m)\n\u001b[1;32m----> 4\u001b[0m     x_adv \u001b[38;5;241m=\u001b[39m \u001b[43mgenerate_adversarial_examples\u001b[49m\u001b[43m(\u001b[49m\u001b[43mattack_method\u001b[49m\u001b[43m,\u001b[49m\u001b[43m \u001b[49m\u001b[43mx_sample\u001b[49m\u001b[43m,\u001b[49m\u001b[43m \u001b[49m\u001b[43my_sample\u001b[49m\u001b[43m)\u001b[49m\n\u001b[0;32m      5\u001b[0m     predictions \u001b[38;5;241m=\u001b[39m np\u001b[38;5;241m.\u001b[39margmax(art_classifier\u001b[38;5;241m.\u001b[39mpredict(x_adv), axis\u001b[38;5;241m=\u001b[39m\u001b[38;5;241m1\u001b[39m)\n\u001b[0;32m      6\u001b[0m     true_labels \u001b[38;5;241m=\u001b[39m np\u001b[38;5;241m.\u001b[39margmax(y_sample, axis\u001b[38;5;241m=\u001b[39m\u001b[38;5;241m1\u001b[39m)\n",
      "Cell \u001b[1;32mIn[8], line 3\u001b[0m, in \u001b[0;36mgenerate_adversarial_examples\u001b[1;34m(attack_method, x, y)\u001b[0m\n\u001b[0;32m      2\u001b[0m \u001b[38;5;28;01mdef\u001b[39;00m \u001b[38;5;21mgenerate_adversarial_examples\u001b[39m(attack_method, x, y):\n\u001b[1;32m----> 3\u001b[0m     attack \u001b[38;5;241m=\u001b[39m attack_method(classifier\u001b[38;5;241m=\u001b[39m\u001b[43mart_classifier\u001b[49m)\n\u001b[0;32m      4\u001b[0m     x_adv \u001b[38;5;241m=\u001b[39m attack\u001b[38;5;241m.\u001b[39mgenerate(x\u001b[38;5;241m=\u001b[39mx)\n\u001b[0;32m      5\u001b[0m     \u001b[38;5;28;01mreturn\u001b[39;00m x_adv\n",
      "\u001b[1;31mNameError\u001b[0m: name 'art_classifier' is not defined"
     ]
    }
   ],
   "source": [
    "# FGSM Attack\n",
    "fgsm_attack = lambda classifier: FastGradientMethod(classifier, eps=0.1)\n",
    "x_adv_fgsm = evaluate_attack(\"FGSM\", fgsm_attack, x_sample_preprocessed, y_sample)\n"
   ]
  },
  {
   "cell_type": "code",
   "execution_count": null,
   "metadata": {},
   "outputs": [],
   "source": [
    "# PGD Attack\n",
    "pgd_attack = lambda classifier: ProjectedGradientDescent(classifier, eps=0.1, max_iter=20)\n",
    "x_adv_pgd = evaluate_attack(\"PGD\", pgd_attack, x_sample_preprocessed, y_sample)\n"
   ]
  },
  {
   "cell_type": "code",
   "execution_count": null,
   "metadata": {},
   "outputs": [],
   "source": [
    "# Carlini & Wagner (C&W) Attack\n",
    "cw_attack = lambda classifier: CarliniL2Method(classifier, confidence=0.1)\n",
    "x_adv_cw = evaluate_attack(\"C&W\", cw_attack, x_sample_preprocessed, y_sample)"
   ]
  },
  {
   "cell_type": "code",
   "execution_count": null,
   "metadata": {},
   "outputs": [],
   "source": [
    "# Visualize original and adversarial examples\n",
    "def plot_examples(original, adversarial, labels, title):\n",
    "    fig, axes = plt.subplots(1, 2, figsize=(10, 5))\n",
    "    axes[0].imshow(original[0])\n",
    "    axes[0].set_title(\"Original\")\n",
    "    axes[0].axis(\"off\")\n",
    "    axes[1].imshow(adversarial[0])\n",
    "    axes[1].set_title(f\"{title} Attack\")\n",
    "    axes[1].axis(\"off\")\n",
    "    plt.show()"
   ]
  },
  {
   "cell_type": "code",
   "execution_count": null,
   "metadata": {},
   "outputs": [],
   "source": [
    "plot_examples(x_sample, x_adv_fgsm, y_sample, \"FGSM\")\n",
    "plot_examples(x_sample, x_adv_pgd, y_sample, \"PGD\")\n",
    "plot_examples(x_sample, x_adv_cw, y_sample, \"C&W\")"
   ]
  },
  {
   "cell_type": "code",
   "execution_count": null,
   "metadata": {},
   "outputs": [],
   "source": []
  },
  {
   "cell_type": "code",
   "execution_count": null,
   "metadata": {},
   "outputs": [],
   "source": []
  },
  {
   "cell_type": "code",
   "execution_count": null,
   "metadata": {},
   "outputs": [],
   "source": []
  }
 ],
 "metadata": {
  "kernelspec": {
   "display_name": "AI-Security-symJyybd",
   "language": "python",
   "name": "python3"
  },
  "language_info": {
   "codemirror_mode": {
    "name": "ipython",
    "version": 3
   },
   "file_extension": ".py",
   "mimetype": "text/x-python",
   "name": "python",
   "nbconvert_exporter": "python",
   "pygments_lexer": "ipython3",
   "version": "3.11.8"
  }
 },
 "nbformat": 4,
 "nbformat_minor": 2
}
